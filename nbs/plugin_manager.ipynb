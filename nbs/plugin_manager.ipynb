{
 "cells": [
  {
   "cell_type": "markdown",
   "metadata": {},
   "source": "# plugin manager\n\n> Plugin discovery, loading, and lifecycle management system"
  },
  {
   "cell_type": "code",
   "execution_count": null,
   "metadata": {},
   "outputs": [],
   "source": [
    "#| default_exp plugin_manager"
   ]
  },
  {
   "cell_type": "code",
   "execution_count": null,
   "metadata": {},
   "outputs": [],
   "source": [
    "#| hide\n",
    "from nbdev.showdoc import *"
   ]
  },
  {
   "cell_type": "code",
   "execution_count": null,
   "metadata": {},
   "outputs": [],
   "source": [
    "#| export\n",
    "import importlib.metadata\n",
    "import inspect\n",
    "import logging\n",
    "from pathlib import Path\n",
    "import sys\n",
    "from typing import Dict, List, Optional, Type, Any\n",
    "from cjm_transcription_plugin_system.core import AudioData, TranscriptionResult\n",
    "from cjm_transcription_plugin_system.plugin_interface import PluginInterface, PluginMeta"
   ]
  },
  {
   "cell_type": "code",
   "execution_count": null,
   "metadata": {},
   "outputs": [],
   "source": []
  },
  {
   "cell_type": "code",
   "execution_count": null,
   "metadata": {},
   "outputs": [],
   "source": "#| export\nclass PluginManager:\n    \"\"\"Manages plugin discovery, loading, and lifecycle.\"\"\"\n    \n    def __init__(self, \n                 plugin_interface: Type[PluginInterface] = PluginInterface,  # The base class/interface plugins must implement\n                 entry_point_group: str = \"transcription.plugins\"  # The entry point group name for plugin discovery\n                ):\n        \"\"\"\n        Initialize the plugin manager.\n        \"\"\"\n        self.plugin_interface = plugin_interface\n        self.entry_point_group = entry_point_group\n        self.plugins: Dict[str, PluginMeta] = {}\n        self._loaded_modules: Dict[str, Any] = {}\n        self.logger = logging.getLogger(f\"{__name__}.{type(self).__name__}\")\n    \n    def discover_plugins(\n        self\n    ) -> List[PluginMeta]:  # List of discovered plugin metadata objects\n        \"\"\"\n        Discover all installed plugins via entry points.\n        \n        This method looks for plugins installed as packages that declare\n        entry points in the specified group.\n        \"\"\"\n        discovered = []\n        \n        try:\n            # Python 3.10+ and backported to 3.8+\n            entry_points = importlib.metadata.entry_points()\n            if hasattr(entry_points, 'select'):\n                # Python 3.10+\n                plugin_eps = entry_points.select(group=self.entry_point_group)\n            else:\n                # Python 3.8-3.9\n                plugin_eps = entry_points.get(self.entry_point_group, [])\n        except AttributeError:\n            # Fallback for older Python versions\n            import pkg_resources\n            plugin_eps = pkg_resources.iter_entry_points(self.entry_point_group)\n        \n        for ep in plugin_eps:\n            try:\n                # Get package metadata\n                if hasattr(ep, 'dist'):\n                    # pkg_resources style\n                    dist = ep.dist\n                    version = dist.version\n                    package_name = dist.project_name\n                else:\n                    # importlib.metadata style\n                    package_name = ep.name\n                    try:\n                        dist = importlib.metadata.distribution(ep.dist.name if hasattr(ep, 'dist') else ep.name)\n                        version = dist.version\n                    except:\n                        version = \"unknown\"\n                \n                meta = PluginMeta(\n                    name=ep.name,\n                    version=version,\n                    package_name=package_name\n                )\n                discovered.append(meta)\n                self.logger.info(f\"Discovered plugin: {meta.name} v{meta.version}\")\n                \n            except Exception as e:\n                self.logger.error(f\"Error discovering plugin {ep.name}: {e}\")\n        \n        return discovered\n    \n    def load_plugin(\n        self,\n        plugin_meta: PluginMeta,  # The plugin metadata\n        config: Optional[Dict[str, Any]] = None  # Optional configuration for the plugin\n    ) -> bool:  # True if successfully loaded, False otherwise\n        \"\"\"\n        Load and initialize a plugin.\n        \"\"\"\n        try:\n            # Find the entry point and load it\n            entry_points = importlib.metadata.entry_points()\n            if hasattr(entry_points, 'select'):\n                plugin_eps = entry_points.select(group=self.entry_point_group, name=plugin_meta.name)\n            else:\n                plugin_eps = [ep for ep in entry_points.get(self.entry_point_group, []) \n                             if ep.name == plugin_meta.name]\n            \n            if not plugin_eps:\n                self.logger.error(f\"Plugin {plugin_meta.name} not found in entry points\")\n                return False\n            \n            ep = list(plugin_eps)[0]\n            plugin_class = ep.load()\n            \n            # Verify it implements the required interface\n            if not issubclass(plugin_class, self.plugin_interface):\n                self.logger.error(f\"Plugin {plugin_meta.name} does not implement required interface\")\n                return False\n            \n            # Instantiate and initialize the plugin\n            plugin_instance = plugin_class()\n            plugin_instance.initialize(config)\n            \n            # Store the plugin\n            plugin_meta.instance = plugin_instance\n            self.plugins[plugin_meta.name] = plugin_meta\n            \n            self.logger.info(f\"Loaded plugin: {plugin_meta.name}\")\n            return True\n            \n        except Exception as e:\n            self.logger.error(f\"Error loading plugin {plugin_meta.name}: {e}\")\n            return False\n    \n    def load_plugin_from_module(\n        self,\n        module_path: str,  # Path to the Python module\n        config: Optional[Dict[str, Any]] = None  # Optional configuration for the plugin\n    ) -> bool:  # True if successfully loaded, False otherwise\n        \"\"\"\n        Load a plugin directly from a Python module file or package.\n        Useful for development or local plugins.\n        \"\"\"\n        try:\n            # Convert to Path object\n            path = Path(module_path)\n            \n            # Load the module\n            if path.is_file():\n                # Single file module\n                spec = importlib.util.spec_from_file_location(path.stem, path)\n                module = importlib.util.module_from_spec(spec)\n                spec.loader.exec_module(module)\n            else:\n                # Package directory\n                sys.path.insert(0, str(path.parent))\n                module = importlib.import_module(path.name)\n            \n            # Find plugin classes in the module\n            plugin_classes = []\n            for name, obj in inspect.getmembers(module):\n                if (inspect.isclass(obj) and \n                    issubclass(obj, self.plugin_interface) and \n                    obj != self.plugin_interface):\n                    plugin_classes.append(obj)\n            \n            if not plugin_classes:\n                self.logger.error(f\"No plugin classes found in {module_path}\")\n                return False\n            \n            # Load the first plugin class found\n            plugin_class = plugin_classes[0]\n            plugin_instance = plugin_class()\n            plugin_instance.initialize(config)\n            \n            # Create metadata\n            meta = PluginMeta(\n                name=plugin_instance.name,\n                version=plugin_instance.version,\n                package_name=str(module_path)\n            )\n            meta.instance = plugin_instance\n            \n            self.plugins[meta.name] = meta\n            self._loaded_modules[meta.name] = module\n            \n            self.logger.info(f\"Loaded plugin from module: {meta.name}\")\n            return True\n            \n        except Exception as e:\n            self.logger.error(f\"Error loading plugin from {module_path}: {e}\")\n            return False\n    \n    def unload_plugin(\n        self,\n        plugin_name: str  # Name of the plugin to unload\n    ) -> bool:  # True if successfully unloaded, False otherwise\n        \"\"\"\n        Unload a plugin and call its cleanup method.\n        \"\"\"\n        if plugin_name not in self.plugins:\n            self.logger.error(f\"Plugin {plugin_name} not found\")\n            return False\n        \n        try:\n            plugin_meta = self.plugins[plugin_name]\n            if plugin_meta.instance:\n                plugin_meta.instance.cleanup()\n            \n            del self.plugins[plugin_name]\n            \n            # Remove from loaded modules if it was loaded that way\n            if plugin_name in self._loaded_modules:\n                del self._loaded_modules[plugin_name]\n            \n            self.logger.info(f\"Unloaded plugin: {plugin_name}\")\n            return True\n            \n        except Exception as e:\n            self.logger.error(f\"Error unloading plugin {plugin_name}: {e}\")\n            return False\n    \n    def get_plugin(\n        self,\n        plugin_name: str  # The name of the plugin to retrieve\n    ) -> Optional[PluginInterface]:  # The plugin instance if found, None otherwise\n        \"\"\"Get a loaded plugin instance by name.\"\"\"\n        if plugin_name in self.plugins:\n            return self.plugins[plugin_name].instance\n        return None\n    \n    def list_plugins(\n        self\n    ) -> List[PluginMeta]:  # List of metadata for all loaded plugins\n        \"\"\"List all loaded plugins.\"\"\"\n        return list(self.plugins.values())\n    \n    def execute_plugin(\n        self,\n        plugin_name: str,  # Name of the plugin to execute\n        *args,  # Arguments to pass to the plugin\n        **kwargs  # Key word arguments to pass to the plugin\n    ) -> Any:  # The result of the plugin execution\n        \"\"\"\n        Execute a plugin's main functionality.            \n        \"\"\"\n        plugin = self.get_plugin(plugin_name)\n        if not plugin:\n            raise ValueError(f\"Plugin {plugin_name} not found or not loaded\")\n        \n        if not self.plugins[plugin_name].enabled:\n            raise ValueError(f\"Plugin {plugin_name} is disabled\")\n        \n        return plugin.execute(*args, **kwargs)\n    \n    def enable_plugin(\n        self,\n        plugin_name: str  # The name of the plugin to enable\n    ) -> bool:  # True if plugin was enabled, False if not found\n        \"\"\"Enable a plugin.\"\"\"\n        if plugin_name in self.plugins:\n            self.plugins[plugin_name].enabled = True\n            return True\n        return False\n    \n    def disable_plugin(\n        self,\n        plugin_name: str  # The name of the plugin to disable\n    ) -> bool:  # True if plugin was disabled, False if not found\n        \"\"\"Disable a plugin without unloading it.\"\"\"\n        if plugin_name in self.plugins:\n            self.plugins[plugin_name].enabled = False\n            return True\n        return False"
  },
  {
   "cell_type": "code",
   "execution_count": null,
   "metadata": {},
   "outputs": [],
   "source": []
  },
  {
   "cell_type": "code",
   "execution_count": null,
   "metadata": {},
   "outputs": [
    {
     "name": "stderr",
     "output_type": "stream",
     "text": [
      "INFO:example_plugin.ExamplePlugin:Initializing example_plugin with config: {}\n",
      "INFO:__main__.PluginManager:Loaded plugin from module: example_plugin\n",
      "INFO:example_plugin.ExamplePlugin:Example plugin executed with args: ('test',), kwargs: {'key': 'value'}\n"
     ]
    },
    {
     "name": "stdout",
     "output_type": "stream",
     "text": [
      "Discovering plugins...\n",
      "Found 0 plugins\n",
      "True\n",
      "Plugin Name: example_plugin\n",
      "\n",
      "Loaded plugins:\n",
      "  - example_plugin v1.0.0 (enabled: True)\n",
      "\n",
      "Plugin result: This is an example transcription.\n"
     ]
    },
    {
     "data": {
      "text/plain": [
       "True"
      ]
     },
     "execution_count": null,
     "metadata": {},
     "output_type": "execute_result"
    }
   ],
   "source": [
    "#| eval: false\n",
    "logging.basicConfig(level=logging.INFO)\n",
    "from nbdev.config import get_config\n",
    "project_config = get_config()\n",
    "\n",
    "test_files_dir = project_config.config_path/\"test_files\"\n",
    "file_path = test_files_dir/\"example_plugin.py\"\n",
    "\n",
    "# Create plugin manager\n",
    "plugin_manager = PluginManager()\n",
    "\n",
    "# Discover installed plugins\n",
    "print(\"Discovering plugins...\")\n",
    "discovered = plugin_manager.discover_plugins()\n",
    "print(f\"Found {len(discovered)} plugins\")\n",
    "\n",
    "# Load discovered plugins\n",
    "for plugin_meta in discovered:\n",
    "    plugin_manager.load_plugin(plugin_meta, config={\"debug\": True})\n",
    "\n",
    "print(plugin_manager.load_plugin_from_module(file_path))\n",
    "example_plugin_name = plugin_manager.list_plugins()[0].name\n",
    "print(f\"Plugin Name: {example_plugin_name}\")\n",
    "\n",
    "# List loaded plugins\n",
    "print(\"\\nLoaded plugins:\")\n",
    "for meta in plugin_manager.list_plugins():\n",
    "    print(f\"  - {meta.name} v{meta.version} (enabled: {meta.enabled})\")\n",
    "\n",
    "# Execute a plugin\n",
    "if plugin_manager.get_plugin(example_plugin_name):\n",
    "    result = plugin_manager.execute_plugin(example_plugin_name, \"test\", key=\"value\")\n",
    "    print(f\"\\nPlugin result: {result}\")\n",
    "\n",
    "# Disable/enable plugins\n",
    "plugin_manager.disable_plugin(example_plugin_name)\n",
    "plugin_manager.enable_plugin(example_plugin_name)"
   ]
  },
  {
   "cell_type": "code",
   "execution_count": null,
   "metadata": {},
   "outputs": [],
   "source": []
  },
  {
   "cell_type": "code",
   "execution_count": null,
   "metadata": {},
   "outputs": [],
   "source": [
    "#| hide\n",
    "import nbdev; nbdev.nbdev_export()"
   ]
  }
 ],
 "metadata": {
  "kernelspec": {
   "display_name": "python3",
   "language": "python",
   "name": "python3"
  }
 },
 "nbformat": 4,
 "nbformat_minor": 4
}
