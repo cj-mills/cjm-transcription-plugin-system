{
 "cells": [
  {
   "cell_type": "markdown",
   "metadata": {},
   "source": [
    "# cjm-transcription-plugin-system\n",
    "\n",
    "> A flexible plugin system for audio transcription intended to make it easy to add support for multiple backends."
   ]
  },
  {
   "cell_type": "markdown",
   "metadata": {},
   "source": [
    "## Install"
   ]
  },
  {
   "cell_type": "markdown",
   "metadata": {},
   "source": [
    "```bash\n",
    "pip install cjm_transcription_plugin_system\n",
    "```"
   ]
  },
  {
   "cell_type": "markdown",
   "metadata": {},
   "source": [
    "## Project Structure\n",
    "\n",
    "```\n",
    "nbs/\n",
    "├── core.ipynb             # Core data structures for audio transcription\n",
    "└── plugin_interface.ipynb # Domain-specific plugin interface for audio transcription plugins\n",
    "```\n",
    "\n",
    "Total: 2 notebooks"
   ]
  },
  {
   "cell_type": "markdown",
   "metadata": {},
   "source": [
    "## Module Dependencies\n",
    "\n",
    "```mermaid\n",
    "graph LR\n",
    "    core[core<br/>core]\n",
    "    plugin_interface[plugin_interface<br/>Transcription Plugin Interface]\n",
    "\n",
    "    plugin_interface --> core\n",
    "```\n",
    "\n",
    "*1 cross-module dependencies detected*"
   ]
  },
  {
   "cell_type": "markdown",
   "metadata": {},
   "source": [
    "## CLI Reference\n",
    "\n",
    "No CLI commands found in this project."
   ]
  },
  {
   "cell_type": "markdown",
   "metadata": {},
   "source": [
    "## Module Overview\n",
    "\n",
    "Detailed documentation for each module in the project:"
   ]
  },
  {
   "cell_type": "markdown",
   "metadata": {},
   "source": [
    "### core (`core.ipynb`)\n",
    "> Core data structures for audio transcription\n",
    "\n",
    "#### Import\n",
    "\n",
    "```python\n",
    "from cjm_transcription_plugin_system.core import (\n",
    "    AudioData,\n",
    "    TranscriptionResult\n",
    ")\n",
    "```\n",
    "#### Classes\n",
    "\n",
    "```python\n",
    "@dataclass\n",
    "class AudioData:\n",
    "    \"Container for audio data and metadata.\"\n",
    "    \n",
    "    samples: np.ndarray  # Audio sample data as a numpy array\n",
    "    sample_rate: int  # Sample rate in Hz (e.g., 16000, 44100)\n",
    "    duration: float  # Duration of the audio in seconds\n",
    "    filepath: Optional[Path]  # Audio file path\n",
    "    metadata: Dict[str, Any] = field(...)  # Additional metadata\n",
    "```\n",
    "\n",
    "```python\n",
    "@dataclass\n",
    "class TranscriptionResult:\n",
    "    \"Standardized transcription output.\"\n",
    "    \n",
    "    text: str  # The transcribed text\n",
    "    confidence: Optional[float]  # Overall confidence score (0.0 to 1.0)\n",
    "    segments: Optional[List[Dict]] = field(...)  # List of transcription segments with timestamps and text\n",
    "    metadata: Optional[Dict] = field(...)  # Transcription metadata\n",
    "```\n"
   ]
  },
  {
   "cell_type": "markdown",
   "metadata": {},
   "source": [
    "### Transcription Plugin Interface (`plugin_interface.ipynb`)\n",
    "> Domain-specific plugin interface for audio transcription plugins\n",
    "\n",
    "#### Import\n",
    "\n",
    "```python\n",
    "from cjm_transcription_plugin_system.plugin_interface import (\n",
    "    TranscriptionPlugin\n",
    ")\n",
    "```\n",
    "#### Classes\n",
    "\n",
    "```python\n",
    "class TranscriptionPlugin(PluginInterface):\n",
    "    \"\"\"\n",
    "    Transcription-specific plugin interface.\n",
    "    \n",
    "    This extends the generic PluginInterface with transcription-specific\n",
    "    requirements like supported audio formats and the execute signature.\n",
    "    \n",
    "    All transcription plugins must implement this interface.\n",
    "    \"\"\"\n",
    "    \n",
    "    def supported_formats(\n",
    "            self\n",
    "        ) -> List[str]:  # List of file extensions this plugin can process\n",
    "        \"List of supported audio formats (e.g., ['wav', 'mp3']).\n",
    "\n",
    "Returns:\n",
    "    List of file extensions without the dot (e.g., ['wav', 'mp3', 'flac'])\"\n",
    "    \n",
    "    def execute(\n",
    "            self,\n",
    "            audio: Union[AudioData, str, Path],  # Audio data or path to audio file\n",
    "            **kwargs  # Additional plugin-specific parameters\n",
    "        ) -> TranscriptionResult:  # Transcription result with text and metadata\n",
    "        \"Transcribe audio to text.\n",
    "\n",
    "Args:\n",
    "    audio: Audio data (AudioData object), file path (str), or Path object\n",
    "    **kwargs: Additional plugin-specific parameters (e.g., language, model)\n",
    "    \n",
    "Returns:\n",
    "    TranscriptionResult containing transcribed text, confidence, segments, and metadata\"\n",
    "```\n"
   ]
  }
 ],
 "metadata": {
  "kernelspec": {
   "display_name": "python3",
   "language": "python",
   "name": "python3"
  }
 },
 "nbformat": 4,
 "nbformat_minor": 4
}
