{
 "cells": [
  {
   "cell_type": "markdown",
   "metadata": {},
   "source": [
    "# plugin interface\n",
    "\n",
    "> Abstract base class defining the interface for transcription plugins"
   ]
  },
  {
   "cell_type": "code",
   "execution_count": null,
   "metadata": {},
   "outputs": [],
   "source": [
    "#| default_exp plugin_interface"
   ]
  },
  {
   "cell_type": "code",
   "execution_count": null,
   "metadata": {},
   "outputs": [],
   "source": [
    "#| hide\n",
    "from nbdev.showdoc import *"
   ]
  },
  {
   "cell_type": "code",
   "execution_count": null,
   "metadata": {},
   "outputs": [],
   "source": [
    "#| export\n",
    "from abc import ABC, abstractmethod\n",
    "import logging\n",
    "from typing import Optional, Dict, Any, Union, List\n",
    "from pathlib import Path\n",
    "from dataclasses import dataclass, field\n",
    "from cjm_transcription_plugin_system.core import AudioData, TranscriptionResult"
   ]
  },
  {
   "cell_type": "code",
   "execution_count": null,
   "metadata": {},
   "outputs": [],
   "source": [
    "#| export\n",
    "class PluginInterface(ABC):\n",
    "    \"\"\"Base interface that all transcription plugins must implement.\"\"\"\n",
    "    \n",
    "    @property\n",
    "    @abstractmethod\n",
    "    def name(\n",
    "        self\n",
    "    ) -> str:  # The unique identifier for this plugin\n",
    "        \"\"\"Unique plugin identifier.\"\"\"\n",
    "        pass\n",
    "    \n",
    "    @property\n",
    "    @abstractmethod\n",
    "    def version(\n",
    "        self\n",
    "    ) -> str:  # The semantic version string (e.g., \"1.0.0\")\n",
    "        \"\"\"Plugin version.\"\"\"\n",
    "        pass\n",
    "    \n",
    "    @property\n",
    "    @abstractmethod\n",
    "    def supported_formats(\n",
    "        self\n",
    "    ) -> List[str]:  # List of file extensions this plugin can process\n",
    "        \"\"\"List of supported audio formats (e.g., ['wav', 'mp3']).\"\"\"\n",
    "        pass\n",
    "    \n",
    "    @abstractmethod\n",
    "    def initialize(\n",
    "        self,\n",
    "        config: Optional[Dict[str, Any]] = None  # Configuration dictionary for plugin-specific settings\n",
    "    ) -> None:\n",
    "        \"\"\"Initialize the plugin with configuration.\"\"\"\n",
    "        pass\n",
    "    \n",
    "    @abstractmethod\n",
    "    def execute(\n",
    "        self,\n",
    "        *args,\n",
    "        **kwargs\n",
    "    ) -> Any:  # Returns transcription result or plugin-specific output\n",
    "        \"\"\"Transcribe audio to text.\"\"\"\n",
    "        pass\n",
    "    \n",
    "    @abstractmethod\n",
    "    def is_available(\n",
    "        self\n",
    "    ) -> bool:  # True if all required dependencies are available\n",
    "        \"\"\"Check if the plugin's dependencies are available.\"\"\"\n",
    "        pass\n",
    "    \n",
    "    def cleanup(\n",
    "        self\n",
    "    ) -> None:\n",
    "        \"\"\"Optional cleanup when plugin is unloaded.\"\"\"\n",
    "        pass"
   ]
  },
  {
   "cell_type": "code",
   "execution_count": null,
   "metadata": {},
   "outputs": [],
   "source": []
  },
  {
   "cell_type": "code",
   "execution_count": null,
   "metadata": {},
   "outputs": [],
   "source": [
    "#| export\n",
    "@dataclass\n",
    "class PluginMeta:\n",
    "    \"\"\"Metadata about a plugin.\"\"\"\n",
    "    name: str  # The plugin's unique identifier\n",
    "    version: str  # The plugin's version string\n",
    "    description: str = \"\"  # A brief description of the plugin's functionality\n",
    "    author: str = \"\"  # The plugin author's name or organization\n",
    "    package_name: str = \"\"  # The Python package name containing the plugin\n",
    "    instance: Optional[PluginInterface] = None  # The plugin instance\n",
    "    enabled: bool = True  # Whether the plugin is enabled"
   ]
  },
  {
   "cell_type": "markdown",
   "metadata": {},
   "source": [
    "## Testing PluginMeta dataclass"
   ]
  },
  {
   "cell_type": "code",
   "execution_count": null,
   "metadata": {},
   "outputs": [
    {
     "name": "stdout",
     "output_type": "stream",
     "text": [
      "PluginMeta instance:\n",
      "PluginMeta(name='test_plugin', version='1.0.0', description='A test plugin', author='Test Author', package_name='', instance=None, enabled=True)\n",
      "\n",
      "Name: test_plugin\n",
      "Version: 1.0.0\n",
      "Enabled: True\n",
      "Instance: None\n",
      "\n",
      "Minimal PluginMeta: PluginMeta(name='minimal', version='0.1.0', description='', author='', package_name='', instance=None, enabled=True)\n",
      "Equality test: True\n"
     ]
    }
   ],
   "source": [
    "# Test PluginMeta dataclass\n",
    "meta = PluginMeta(\n",
    "    name=\"test_plugin\",\n",
    "    version=\"1.0.0\",\n",
    "    description=\"A test plugin\",\n",
    "    author=\"Test Author\"\n",
    ")\n",
    "\n",
    "print(\"PluginMeta instance:\")\n",
    "print(meta)\n",
    "print(f\"\\nName: {meta.name}\")\n",
    "print(f\"Version: {meta.version}\")\n",
    "print(f\"Enabled: {meta.enabled}\")\n",
    "print(f\"Instance: {meta.instance}\")\n",
    "\n",
    "# Test with minimal arguments\n",
    "minimal_meta = PluginMeta(name=\"minimal\", version=\"0.1.0\")\n",
    "print(f\"\\nMinimal PluginMeta: {minimal_meta}\")\n",
    "\n",
    "# Test equality\n",
    "meta_copy = PluginMeta(name=\"minimal\", version=\"0.1.0\")\n",
    "print(f\"Equality test: {minimal_meta == meta_copy}\")"
   ]
  },
  {
   "cell_type": "code",
   "execution_count": null,
   "metadata": {},
   "outputs": [],
   "source": [
    "class ExamplePlugin(PluginInterface):\n",
    "    \"\"\"Example plugin implementation for reference.\"\"\"\n",
    "    \n",
    "    @property\n",
    "    def name(self) -> str:\n",
    "        return \"example_transcriber\"\n",
    "    \n",
    "    @property\n",
    "    def version(self) -> str:\n",
    "        return \"1.0.0\"\n",
    "    \n",
    "    @property\n",
    "    def supported_formats(self) -> List[str]:\n",
    "        return [\"wav\", \"mp3\", \"flac\"]\n",
    "    \n",
    "    def initialize(self, config: Optional[Dict[str, Any]] = None) -> None:\n",
    "        \"\"\"Initialize the plugin.\"\"\"\n",
    "        self.config = config or {}\n",
    "        self.model = None  # Load model here\n",
    "    \n",
    "    def execute(self, audio, language=None, **kwargs):\n",
    "        \"\"\"Transcribe audio.\"\"\"\n",
    "        # Implementation\n",
    "        return TranscriptionResult(\n",
    "            text=\"This is an example transcription.\",\n",
    "            confidence=0.95\n",
    "        )\n",
    "    \n",
    "    def is_available(self) -> bool:\n",
    "        \"\"\"Check availability.\"\"\"\n",
    "        return True"
   ]
  },
  {
   "cell_type": "code",
   "execution_count": null,
   "metadata": {},
   "outputs": [
    {
     "data": {
      "text/plain": [
       "'This is an example transcription.'"
      ]
     },
     "execution_count": null,
     "metadata": {},
     "output_type": "execute_result"
    }
   ],
   "source": [
    "example_plugin = ExamplePlugin()\n",
    "transcription_result = example_plugin.execute(\"test_audio.mp3\")\n",
    "transcription_result.text"
   ]
  },
  {
   "cell_type": "code",
   "execution_count": null,
   "metadata": {},
   "outputs": [],
   "source": [
    "class ExamplePlugin(PluginInterface):\n",
    "    \"\"\"An example plugin implementation.\"\"\"\n",
    "\n",
    "    def __init__(self):\n",
    "        self.logger = logging.getLogger(f\"{__name__}.{type(self).__name__}\")\n",
    "    \n",
    "    @property\n",
    "    def name(self) -> str:\n",
    "        return \"example_plugin\"\n",
    "    \n",
    "    @property\n",
    "    def version(self) -> str:\n",
    "        return \"1.0.0\"\n",
    "\n",
    "    @property\n",
    "    def supported_formats(self) -> List[str]:\n",
    "        return [\"wav\", \"mp3\", \"flac\"]\n",
    "    \n",
    "    def initialize(self, config: Optional[Dict[str, Any]] = None) -> None:\n",
    "        \"\"\"Initialize the plugin.\"\"\"\n",
    "        self.config = config or {}\n",
    "        self.logger.info(f\"Initializing {self.name} with config: {self.config}\")\n",
    "    \n",
    "    def execute(self, *args, **kwargs) -> Any:\n",
    "        \"\"\"Execute the plugin's functionality.\"\"\"\n",
    "        self.logger.info(f\"Example plugin executed with args: {args}, kwargs: {kwargs}\")\n",
    "        return \"This is an example transcription.\"\n",
    "\n",
    "    def is_available(self) -> bool:\n",
    "        \"\"\"Check availability.\"\"\"\n",
    "        return True\n",
    "    \n",
    "    def cleanup(self) -> None:\n",
    "        \"\"\"Clean up resources.\"\"\"\n",
    "        self.logger.info(f\"Cleaning up {self.name}\")"
   ]
  },
  {
   "cell_type": "code",
   "execution_count": null,
   "metadata": {},
   "outputs": [
    {
     "name": "stderr",
     "output_type": "stream",
     "text": [
      "INFO:__main__.ExamplePlugin:Initializing example_plugin with config: {}\n",
      "INFO:__main__.ExamplePlugin:Example plugin executed with args: ('test_audio.mp3',), kwargs: {}\n",
      "INFO:__main__.ExamplePlugin:Cleaning up example_plugin\n"
     ]
    },
    {
     "name": "stdout",
     "output_type": "stream",
     "text": [
      "This is an example transcription.\n"
     ]
    }
   ],
   "source": [
    "logging.basicConfig(level=logging.INFO)\n",
    "\n",
    "example_plugin = ExamplePlugin()\n",
    "example_plugin.initialize()\n",
    "transcription_result = example_plugin.execute(\"test_audio.mp3\")\n",
    "example_plugin.cleanup()\n",
    "print(transcription_result)"
   ]
  },
  {
   "cell_type": "code",
   "execution_count": null,
   "metadata": {},
   "outputs": [],
   "source": []
  },
  {
   "cell_type": "code",
   "execution_count": null,
   "metadata": {},
   "outputs": [],
   "source": []
  },
  {
   "cell_type": "code",
   "execution_count": null,
   "metadata": {},
   "outputs": [],
   "source": []
  },
  {
   "cell_type": "code",
   "execution_count": null,
   "metadata": {},
   "outputs": [],
   "source": []
  },
  {
   "cell_type": "code",
   "execution_count": null,
   "metadata": {},
   "outputs": [],
   "source": []
  },
  {
   "cell_type": "code",
   "execution_count": null,
   "metadata": {},
   "outputs": [],
   "source": [
    "#| hide\n",
    "import nbdev; nbdev.nbdev_export()"
   ]
  }
 ],
 "metadata": {
  "kernelspec": {
   "display_name": "python3",
   "language": "python",
   "name": "python3"
  }
 },
 "nbformat": 4,
 "nbformat_minor": 4
}
