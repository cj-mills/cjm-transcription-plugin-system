{
 "cells": [
  {
   "cell_type": "markdown",
   "metadata": {},
   "source": [
    "# core\n",
    "\n",
    "> Core data structures for audio transcription"
   ]
  },
  {
   "cell_type": "code",
   "execution_count": null,
   "metadata": {},
   "outputs": [],
   "source": [
    "#| default_exp core"
   ]
  },
  {
   "cell_type": "code",
   "execution_count": null,
   "metadata": {},
   "outputs": [],
   "source": [
    "#| hide\n",
    "from nbdev.showdoc import *"
   ]
  },
  {
   "cell_type": "code",
   "execution_count": null,
   "metadata": {},
   "outputs": [],
   "source": [
    "#| export\n",
    "from abc import ABC, abstractmethod\n",
    "from typing import Optional, Dict, Any, List\n",
    "from pathlib import Path\n",
    "import numpy as np\n",
    "from dataclasses import dataclass, field"
   ]
  },
  {
   "cell_type": "code",
   "execution_count": null,
   "metadata": {},
   "outputs": [],
   "source": [
    "#| export\n",
    "@dataclass\n",
    "class AudioData:\n",
    "    \"\"\"Container for audio data and metadata.\"\"\"\n",
    "    samples: np.ndarray  # Audio sample data as a numpy array\n",
    "    sample_rate: int  # Sample rate in Hz (e.g., 16000, 44100)\n",
    "    duration: float  # Duration of the audio in seconds\n",
    "    filepath: Optional[Path] = None  # Audio file path\n",
    "    metadata: Dict[str, Any] = field(default_factory=dict)  # Additional metadata"
   ]
  },
  {
   "cell_type": "code",
   "execution_count": null,
   "metadata": {},
   "outputs": [],
   "source": [
    "#| export\n",
    "@dataclass\n",
    "class TranscriptionResult:\n",
    "    \"\"\"Standardized transcription output.\"\"\"\n",
    "    text: str  # The transcribed text\n",
    "    confidence: Optional[float] = None  # Overall confidence score (0.0 to 1.0)\n",
    "    segments: Optional[List[Dict]] = field(default_factory=list)  # List of transcription segments with timestamps and text\n",
    "    metadata: Optional[Dict] = field(default_factory=dict)  # Transcription metadata"
   ]
  },
  {
   "cell_type": "markdown",
   "metadata": {},
   "source": [
    "## Testing the dataclasses"
   ]
  },
  {
   "cell_type": "code",
   "execution_count": null,
   "metadata": {},
   "outputs": [
    {
     "name": "stdout",
     "output_type": "stream",
     "text": [
      "AudioData instance:\n",
      "AudioData(samples=array([0.1, 0.2, 0.3]), sample_rate=16000, duration=1.5, filepath=Path('/tmp/test.wav'), metadata={})\n",
      "\n",
      "Metadata: {}\n",
      "Updated metadata: {'format': 'wav'}\n"
     ]
    }
   ],
   "source": [
    "# Test AudioData\n",
    "import numpy as np\n",
    "\n",
    "audio = AudioData(\n",
    "    samples=np.array([0.1, 0.2, 0.3]),\n",
    "    sample_rate=16000,\n",
    "    duration=1.5,\n",
    "    filepath=Path(\"/tmp/test.wav\")\n",
    ")\n",
    "\n",
    "print(\"AudioData instance:\")\n",
    "print(audio)\n",
    "print(f\"\\nMetadata: {audio.metadata}\")\n",
    "audio.metadata['format'] = 'wav'\n",
    "print(f\"Updated metadata: {audio.metadata}\")"
   ]
  },
  {
   "cell_type": "code",
   "execution_count": null,
   "metadata": {},
   "outputs": [
    {
     "name": "stdout",
     "output_type": "stream",
     "text": [
      "TranscriptionResult instance:\n",
      "TranscriptionResult(text='Hello world', confidence=0.95, segments=[{'start': 0.0, 'end': 0.5, 'text': 'Hello'}, {'start': 0.5, 'end': 1.0, 'text': 'world'}], metadata={})\n",
      "\n",
      "Text: Hello world\n",
      "Confidence: 0.95\n",
      "Segments: [{'start': 0.0, 'end': 0.5, 'text': 'Hello'}, {'start': 0.5, 'end': 1.0, 'text': 'world'}]\n",
      "Metadata: {}\n"
     ]
    }
   ],
   "source": [
    "# Test TranscriptionResult\n",
    "result = TranscriptionResult(\n",
    "    text=\"Hello world\",\n",
    "    confidence=0.95,\n",
    "    segments=[\n",
    "        {\"start\": 0.0, \"end\": 0.5, \"text\": \"Hello\"},\n",
    "        {\"start\": 0.5, \"end\": 1.0, \"text\": \"world\"}\n",
    "    ]\n",
    ")\n",
    "\n",
    "print(\"TranscriptionResult instance:\")\n",
    "print(result)\n",
    "print(f\"\\nText: {result.text}\")\n",
    "print(f\"Confidence: {result.confidence}\")\n",
    "print(f\"Segments: {result.segments}\")\n",
    "print(f\"Metadata: {result.metadata}\")"
   ]
  },
  {
   "cell_type": "code",
   "execution_count": null,
   "metadata": {},
   "outputs": [
    {
     "name": "stdout",
     "output_type": "stream",
     "text": [
      "\n",
      "Minimal TranscriptionResult:\n",
      "Text: Just text\n",
      "Confidence: None\n",
      "Segments: []\n",
      "Metadata: {}\n",
      "\n",
      "Equality test: True\n"
     ]
    }
   ],
   "source": [
    "# Test default values\n",
    "result_minimal = TranscriptionResult(text=\"Just text\")\n",
    "print(\"\\nMinimal TranscriptionResult:\")\n",
    "print(f\"Text: {result_minimal.text}\")\n",
    "print(f\"Confidence: {result_minimal.confidence}\")\n",
    "print(f\"Segments: {result_minimal.segments}\")\n",
    "print(f\"Metadata: {result_minimal.metadata}\")\n",
    "\n",
    "# Test equality (automatic with dataclass)\n",
    "result_copy = TranscriptionResult(text=\"Just text\")\n",
    "print(f\"\\nEquality test: {result_minimal == result_copy}\")"
   ]
  },
  {
   "cell_type": "code",
   "execution_count": null,
   "metadata": {},
   "outputs": [],
   "source": []
  },
  {
   "cell_type": "code",
   "execution_count": null,
   "metadata": {},
   "outputs": [],
   "source": []
  },
  {
   "cell_type": "code",
   "execution_count": null,
   "metadata": {},
   "outputs": [],
   "source": []
  },
  {
   "cell_type": "code",
   "execution_count": null,
   "metadata": {},
   "outputs": [],
   "source": [
    "#| hide\n",
    "import nbdev; nbdev.nbdev_export()"
   ]
  }
 ],
 "metadata": {
  "kernelspec": {
   "display_name": "python3",
   "language": "python",
   "name": "python3"
  }
 },
 "nbformat": 4,
 "nbformat_minor": 4
}
